{
 "cells": [
  {
   "cell_type": "code",
   "execution_count": null,
   "metadata": {
    "application/vnd.databricks.v1+cell": {
     "cellMetadata": {
      "byteLimit": 2048000,
      "rowLimit": 10000
     },
     "inputWidgets": {},
     "nuid": "cbc2205a-f3ab-4f2c-8db5-213b3b9ceada",
     "showTitle": false,
     "title": ""
    }
   },
   "outputs": [],
   "source": [
    "from pyspark.sql import SparkSession\n",
    "from pyspark.sql.functions import *"
   ]
  },
  {
   "cell_type": "code",
   "execution_count": null,
   "metadata": {
    "application/vnd.databricks.v1+cell": {
     "cellMetadata": {
      "byteLimit": 2048000,
      "rowLimit": 10000
     },
     "inputWidgets": {},
     "nuid": "b73cb405-5046-4b18-994c-7bf460b1ee79",
     "showTitle": false,
     "title": ""
    }
   },
   "outputs": [],
   "source": [
    "from pyspark.sql import SparkSession\n",
    "from pyspark.sql.functions import explode, col\n",
    "\n",
    "# SparkSession \n",
    "spark = SparkSession.builder.appName(\"TechCarbonELT\").getOrCreate()\n",
    "\n",
    "# Authentication settings\n",
    "spark.conf.set(\"fs.azure.account.key.techcarbondatalake.dfs.core.windows.net\", \"<your-access-key>\")\n",
    "\n",
    "# Read JSON file\n",
    "df = spark.read.json(\"abfss://techcarbonprojectcontainer@techcarbondatalake.dfs.core.windows.net/raw/techCarbonData.json\")\n",
    "\n",
    "# Explode 'history' array\n",
    "df_exploded = df.withColumn(\"history\", explode(\"history\"))\n",
    "\n",
    "# Select and rename columns for analysis (excluding LEI number)\n",
    "filtered_df = df_exploded.select(\n",
    "    col(\"history.reporting_year\").alias(\"reporting_year\"),\n",
    "    col(\"history.submission.values.total_scope_1_emissions_ghg\").alias(\"scope_1_emissions\"),\n",
    "    col(\"history.submission.values.total_scope_2_lb_emissions_ghg\").alias(\"scope_2_lb_emissions\"),\n",
    "    col(\"history.submission.values.total_scope_2_mb_emissions_ghg\").alias(\"scope_2_mb_emissions\"),\n",
    "    col(\"history.submission.values.total_scope_3_emissions_ghg\").alias(\"scope_3_emissions\"),\n",
    "    col(\"history.submission.values.scope_1_methodology\").alias(\"scope_1_methodology\"),\n",
    "    col(\"history.submission.values.source\").alias(\"source\")\n",
    ")"
   ]
  },
  {
   "cell_type": "code",
   "execution_count": null,
   "metadata": {
    "application/vnd.databricks.v1+cell": {
     "cellMetadata": {
      "byteLimit": 2048000,
      "rowLimit": 10000
     },
     "inputWidgets": {},
     "nuid": "98c98199-b070-4ecd-828f-3c05d14cd6f7",
     "showTitle": false,
     "title": ""
    }
   },
   "outputs": [
    {
     "name": "stdout",
     "output_type": "stream",
     "text": [
      "+---------------+------------------+------------------+------------------+\n",
      "|total_emissions|scope_1_percentage|scope_2_percentage|scope_3_percentage|\n",
      "+---------------+------------------+------------------+------------------+\n",
      "|      2.31864E7|              0.24|              0.01|             99.75|\n",
      "+---------------+------------------+------------------+------------------+\n",
      "\n"
     ]
    }
   ],
   "source": [
    "# 1. Total Emissions Analysis\n",
    "total_emissions = filtered_df.withColumn(\n",
    "    \"total_emissions\", \n",
    "    col(\"scope_1_emissions\") + col(\"scope_2_mb_emissions\") + col(\"scope_3_emissions\")\n",
    ")\n",
    "\n",
    "total_emissions = total_emissions.withColumn(\n",
    "    \"scope_1_percentage\", round(col(\"scope_1_emissions\") / col(\"total_emissions\") * 100, 2)\n",
    ").withColumn(\n",
    "    \"scope_2_percentage\", round(col(\"scope_2_mb_emissions\") / col(\"total_emissions\") * 100, 2)\n",
    ").withColumn(\n",
    "    \"scope_3_percentage\", round(col(\"scope_3_emissions\") / col(\"total_emissions\") * 100, 2)\n",
    ")\n",
    "\n",
    "total_emissions.select(\"total_emissions\", \"scope_1_percentage\", \"scope_2_percentage\", \"scope_3_percentage\").show()\n"
   ]
  },
  {
   "cell_type": "code",
   "execution_count": null,
   "metadata": {
    "application/vnd.databricks.v1+cell": {
     "cellMetadata": {
      "byteLimit": 2048000,
      "rowLimit": 10000
     },
     "inputWidgets": {},
     "nuid": "4e6aae3d-5dfa-46a6-a4d5-2cdbf11fc879",
     "showTitle": false,
     "title": ""
    }
   },
   "outputs": [
    {
     "name": "stdout",
     "output_type": "stream",
     "text": [
      "+------------+----------+\n",
      "|       scope| emissions|\n",
      "+------------+----------+\n",
      "|     Scope 3|2.312842E7|\n",
      "|     Scope 1|   55200.0|\n",
      "|Scope 2 (MB)|    2780.0|\n",
      "+------------+----------+\n",
      "\n"
     ]
    }
   ],
   "source": [
    "# 2. Scope Comparison\n",
    "scope_comparison = filtered_df.select(\n",
    "    lit(\"Scope 1\").alias(\"scope\"), col(\"scope_1_emissions\").alias(\"emissions\")\n",
    ").union(\n",
    "    filtered_df.select(lit(\"Scope 2 (MB)\").alias(\"scope\"), col(\"scope_2_mb_emissions\").alias(\"emissions\"))\n",
    ").union(\n",
    "    filtered_df.select(lit(\"Scope 3\").alias(\"scope\"), col(\"scope_3_emissions\").alias(\"emissions\"))\n",
    ")\n",
    "\n",
    "scope_comparison.orderBy(col(\"emissions\").desc()).show()"
   ]
  },
  {
   "cell_type": "code",
   "execution_count": null,
   "metadata": {
    "application/vnd.databricks.v1+cell": {
     "cellMetadata": {
      "byteLimit": 2048000,
      "rowLimit": 10000
     },
     "inputWidgets": {},
     "nuid": "fadc9631-92ea-48ba-af0f-da086c0c152f",
     "showTitle": false,
     "title": ""
    }
   },
   "outputs": [
    {
     "name": "stdout",
     "output_type": "stream",
     "text": [
      "+--------------------+--------------------+------------------+----------------------------+\n",
      "|scope_2_lb_emissions|scope_2_mb_emissions|scope_2_difference|scope_2_reduction_percentage|\n",
      "+--------------------+--------------------+------------------+----------------------------+\n",
      "|           1003246.0|              2780.0|         1000466.0|                       99.72|\n",
      "+--------------------+--------------------+------------------+----------------------------+\n",
      "\n"
     ]
    }
   ],
   "source": [
    "# 3. Scope 2 Emissions Analysis\n",
    "scope_2_analysis = filtered_df.withColumn(\n",
    "    \"scope_2_difference\", col(\"scope_2_lb_emissions\") - col(\"scope_2_mb_emissions\")\n",
    ").withColumn(\n",
    "    \"scope_2_reduction_percentage\", \n",
    "    round((col(\"scope_2_lb_emissions\") - col(\"scope_2_mb_emissions\")) / col(\"scope_2_lb_emissions\") * 100, 2)\n",
    ")\n",
    "\n",
    "scope_2_analysis.select(\"scope_2_lb_emissions\", \"scope_2_mb_emissions\", \"scope_2_difference\", \"scope_2_reduction_percentage\").show()\n"
   ]
  },
  {
   "cell_type": "code",
   "execution_count": null,
   "metadata": {
    "application/vnd.databricks.v1+cell": {
     "cellMetadata": {
      "byteLimit": 2048000,
      "rowLimit": 10000
     },
     "inputWidgets": {},
     "nuid": "1f8988ba-ce03-4b0f-a48c-33bf734f8a7f",
     "showTitle": false,
     "title": ""
    }
   },
   "outputs": [
    {
     "name": "stdout",
     "output_type": "stream",
     "text": [
      "+------------------------+------------------------+------------------------+\n",
      "|scope_1_reduction_target|scope_2_reduction_target|scope_3_reduction_target|\n",
      "+------------------------+------------------------+------------------------+\n",
      "|                  2760.0|                   278.0|               3469263.0|\n",
      "+------------------------+------------------------+------------------------+\n",
      "\n"
     ]
    }
   ],
   "source": [
    "# 6. Emission Reduction Potential\n",
    "emission_reduction = total_emissions.withColumn(\n",
    "    \"scope_1_reduction_target\", col(\"scope_1_emissions\") * 0.05  # Example: 5% reduction target\n",
    ").withColumn(\n",
    "    \"scope_2_reduction_target\", col(\"scope_2_mb_emissions\") * 0.10  # Example: 10% reduction target\n",
    ").withColumn(\n",
    "    \"scope_3_reduction_target\", col(\"scope_3_emissions\") * 0.15  # Example: 15% reduction target\n",
    ")\n",
    "\n",
    "emission_reduction.select(\"scope_1_reduction_target\", \"scope_2_reduction_target\", \"scope_3_reduction_target\").show()\n"
   ]
  },
  {
   "cell_type": "code",
   "execution_count": null,
   "metadata": {
    "application/vnd.databricks.v1+cell": {
     "cellMetadata": {
      "byteLimit": 2048000,
      "rowLimit": 10000
     },
     "inputWidgets": {},
     "nuid": "6620dc92-ba56-4adb-a1e3-aef7fe91676a",
     "showTitle": false,
     "title": ""
    }
   },
   "outputs": [
    {
     "name": "stdout",
     "output_type": "stream",
     "text": [
      "+---------------+-----------------------+\n",
      "|total_emissions|annual_reduction_needed|\n",
      "+---------------+-----------------------+\n",
      "|      2.31864E7|              799531.03|\n",
      "+---------------+-----------------------+\n",
      "\n"
     ]
    }
   ],
   "source": [
    "# 7. Decarbonization Path\n",
    "net_zero_target_year = 2050  # Example target year\n",
    "years_to_net_zero = net_zero_target_year - filtered_df.select(\"reporting_year\").first()[0]\n",
    "\n",
    "decarbonization_path = total_emissions.withColumn(\n",
    "    \"annual_reduction_needed\", round(col(\"total_emissions\") / lit(years_to_net_zero), 2)\n",
    ")\n",
    "\n",
    "decarbonization_path.select(\"total_emissions\", \"annual_reduction_needed\").show()\n"
   ]
  },
  {
   "cell_type": "code",
   "execution_count": null,
   "metadata": {
    "application/vnd.databricks.v1+cell": {
     "cellMetadata": {
      "byteLimit": 2048000,
      "rowLimit": 10000
     },
     "inputWidgets": {},
     "nuid": "5c61eda0-5598-4761-a57f-981fa5f13f5e",
     "showTitle": false,
     "title": ""
    }
   },
   "outputs": [
    {
     "data": {
      "text/html": [
       "<style scoped>\n",
       "  .table-result-container {\n",
       "    max-height: 300px;\n",
       "    overflow: auto;\n",
       "  }\n",
       "  table, th, td {\n",
       "    border: 1px solid black;\n",
       "    border-collapse: collapse;\n",
       "  }\n",
       "  th, td {\n",
       "    padding: 5px;\n",
       "  }\n",
       "  th {\n",
       "    text-align: left;\n",
       "  }\n",
       "</style><div class='table-result-container'><table class='table-result'><thead style='background-color: white'><tr><th>reporting_year</th><th>total_emissions</th><th>annual_reduction_needed</th><th>scope_1_reduction_target</th><th>scope_2_reduction_target</th><th>scope_3_reduction_target</th></tr></thead><tbody><tr><td>2021</td><td>2.31864E7</td><td>799531.03</td><td>2760.0</td><td>278.0</td><td>3469263.0</td></tr></tbody></table></div>"
      ]
     },
     "metadata": {
      "application/vnd.databricks.v1+output": {
       "addedWidgets": {},
       "aggData": [],
       "aggError": "",
       "aggOverflow": false,
       "aggSchema": [],
       "aggSeriesLimitReached": false,
       "aggType": "",
       "arguments": {},
       "columnCustomDisplayInfos": {},
       "data": [
        [
         2021,
         23186400,
         799531.03,
         2760,
         278,
         3469263
        ]
       ],
       "datasetInfos": [],
       "dbfsResultPath": null,
       "isJsonSchema": true,
       "metadata": {},
       "overflow": false,
       "plotOptions": {
        "customPlotOptions": {},
        "displayType": "table",
        "pivotAggregation": null,
        "pivotColumns": null,
        "xColumns": null,
        "yColumns": null
       },
       "removedWidgets": [],
       "schema": [
        {
         "metadata": "{}",
         "name": "reporting_year",
         "type": "\"long\""
        },
        {
         "metadata": "{}",
         "name": "total_emissions",
         "type": "\"double\""
        },
        {
         "metadata": "{}",
         "name": "annual_reduction_needed",
         "type": "\"double\""
        },
        {
         "metadata": "{}",
         "name": "scope_1_reduction_target",
         "type": "\"double\""
        },
        {
         "metadata": "{}",
         "name": "scope_2_reduction_target",
         "type": "\"double\""
        },
        {
         "metadata": "{}",
         "name": "scope_3_reduction_target",
         "type": "\"double\""
        }
       ],
       "type": "table"
      }
     },
     "output_type": "display_data"
    }
   ],
   "source": [
    "from pyspark.sql.functions import round, col, lit\n",
    "\n",
    "# Net zero target year and years to net zero\n",
    "net_zero_target_year = 2050\n",
    "years_to_net_zero = net_zero_target_year - filtered_df.select(\"reporting_year\").first()[0]\n",
    "\n",
    "# Decarbonization Path calculation\n",
    "decarbonization_path = total_emissions.withColumn(\n",
    "    \"annual_reduction_needed\", round(col(\"total_emissions\") / lit(years_to_net_zero), 2)\n",
    ")\n",
    "\n",
    "# Emission Reduction Potential calculation\n",
    "emission_reduction = total_emissions.withColumn(\n",
    "    \"scope_1_reduction_target\", col(\"scope_1_emissions\") * 0.05  # Example: 5% reduction target\n",
    ").withColumn(\n",
    "    \"scope_2_reduction_target\", col(\"scope_2_mb_emissions\") * 0.10  # Example: 10% reduction target\n",
    ").withColumn(\n",
    "    \"scope_3_reduction_target\", col(\"scope_3_emissions\") * 0.15  # Example: 15% reduction target\n",
    ")\n",
    "\n",
    "# Combining all data\n",
    "final_df = decarbonization_path.join(\n",
    "    emission_reduction, on=[\"reporting_year\", \"scope_1_emissions\", \"scope_2_lb_emissions\", \"scope_2_mb_emissions\", \"scope_3_emissions\", \"scope_1_methodology\", \"source\", \"total_emissions\", \"scope_1_percentage\", \"scope_2_percentage\", \"scope_3_percentage\"]\n",
    ").select(\n",
    "    \"reporting_year\", \"total_emissions\", \"annual_reduction_needed\", \"scope_1_reduction_target\", \"scope_2_reduction_target\", \"scope_3_reduction_target\"\n",
    ")\n",
    "\n",
    "# Display the table\n",
    "display(final_df) "
   ]
  }
 ],
 "metadata": {
  "application/vnd.databricks.v1+notebook": {
   "dashboards": [],
   "environmentMetadata": {
    "base_environment": "",
    "client": "1"
   },
   "language": "python",
   "notebookMetadata": {
    "mostRecentlyExecutedCommandWithImplicitDF": {
     "commandId": 900107612094486,
     "dataframes": [
      "_sqldf"
     ]
    },
    "pythonIndentUnit": 4
   },
   "notebookName": "TechCarbonAnalysis",
   "widgets": {}
  },
  "language_info": {
   "name": "python"
  }
 },
 "nbformat": 4,
 "nbformat_minor": 0
}
